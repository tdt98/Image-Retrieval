{
  "nbformat": 4,
  "nbformat_minor": 0,
  "metadata": {
    "colab": {
      "name": "ImageRetrieval.ipynb",
      "provenance": [],
      "collapsed_sections": [],
      "machine_shape": "hm"
    },
    "kernelspec": {
      "name": "python3",
      "display_name": "Python 3"
    },
    "accelerator": "GPU"
  },
  "cells": [
    {
      "cell_type": "code",
      "metadata": {
        "id": "ZFXua6JVvvqA",
        "colab_type": "code",
        "colab": {
          "base_uri": "https://localhost:8080/",
          "height": 246
        },
        "outputId": "fa52afc8-6424-4b45-9d7b-a1c1b6770e2c"
      },
      "source": [
        "pip install opencv-contrib-python==3.4.1.15"
      ],
      "execution_count": null,
      "outputs": [
        {
          "output_type": "stream",
          "text": [
            "Collecting opencv-contrib-python==3.4.1.15\n",
            "\u001b[?25l  Downloading https://files.pythonhosted.org/packages/e1/80/95a5614b6fb0baa142271463dfd4034a5c0cc70f19fe2789eeab27b21b8d/opencv_contrib_python-3.4.1.15-cp36-cp36m-manylinux1_x86_64.whl (30.3MB)\n",
            "\u001b[K     |████████████████████████████████| 30.3MB 113kB/s \n",
            "\u001b[?25hRequirement already satisfied: numpy>=1.11.3 in /usr/local/lib/python3.6/dist-packages (from opencv-contrib-python==3.4.1.15) (1.17.4)\n",
            "Installing collected packages: opencv-contrib-python\n",
            "  Found existing installation: opencv-contrib-python 4.1.2.30\n",
            "    Uninstalling opencv-contrib-python-4.1.2.30:\n",
            "      Successfully uninstalled opencv-contrib-python-4.1.2.30\n",
            "Successfully installed opencv-contrib-python-3.4.1.15\n"
          ],
          "name": "stdout"
        },
        {
          "output_type": "display_data",
          "data": {
            "application/vnd.colab-display-data+json": {
              "pip_warning": {
                "packages": [
                  "cv2"
                ]
              }
            }
          },
          "metadata": {
            "tags": []
          }
        }
      ]
    },
    {
      "cell_type": "code",
      "metadata": {
        "id": "7DjHxRohBvee",
        "colab_type": "code",
        "colab": {
          "base_uri": "https://localhost:8080/",
          "height": 33
        },
        "outputId": "f6e72663-4c30-4cd4-8d6c-1d4ba140797a"
      },
      "source": [
        "import cv2 as cv\n",
        "import numpy\n",
        "import matplotlib.pyplot as plt\n",
        "from google.colab.patches import cv2_imshow\n",
        "from sklearn.cluster import KMeans\n",
        "import os\n",
        "from google.colab import drive\n",
        "import numpy as np\n",
        "from sklearn.metrics.pairwise import cosine_similarity\n",
        "#I store the image on Google drives so if you wannt to run this cell, please upload data on Google Drive. Sorry for this inconvenience!\n",
        "drive.mount('/content/drive')"
      ],
      "execution_count": null,
      "outputs": [
        {
          "output_type": "stream",
          "text": [
            "Drive already mounted at /content/drive; to attempt to forcibly remount, call drive.mount(\"/content/drive\", force_remount=True).\n"
          ],
          "name": "stdout"
        }
      ]
    },
    {
      "cell_type": "markdown",
      "metadata": {
        "id": "5YGXUuW3wQwN",
        "colab_type": "text"
      },
      "source": [
        "# Get The corner key points by Harris and represent by SIFT\n"
      ]
    },
    {
      "cell_type": "code",
      "metadata": {
        "id": "wJYj2BwW2ip3",
        "colab_type": "code",
        "colab": {}
      },
      "source": [
        "def get_feature():\n",
        "  list_feature = []\n",
        "  extractor = cv.xfeatures2d.SIFT_create()\n",
        "  harris_laplace\t=\tcv.xfeatures2d.HarrisLaplaceFeatureDetector_create(maxCorners=1000)\n",
        "  i = 0\n",
        "  for image_path in os.listdir('drive/My Drive/images'):\n",
        "    image = cv.imread('drive/My Drive/images/'+image_path)\n",
        "    # plt.imshow(image)\n",
        "    gray = cv.cvtColor(image,cv.COLOR_BGR2GRAY)\n",
        "    kp = harris_laplace.detect(gray,None)\n",
        "    keypoint, desc = extractor.compute(gray,kp)\n",
        "    list_feature.append(desc)\n",
        "    # i = i+1\n",
        "    # if i == 100:\n",
        "    #   break;\n",
        "  return list_feature"
      ],
      "execution_count": null,
      "outputs": []
    },
    {
      "cell_type": "code",
      "metadata": {
        "id": "_Dyv6nsm6Tes",
        "colab_type": "code",
        "colab": {}
      },
      "source": [
        "feature_list = get_feature()"
      ],
      "execution_count": null,
      "outputs": []
    },
    {
      "cell_type": "code",
      "metadata": {
        "id": "LCh55EC858V4",
        "colab_type": "code",
        "colab": {}
      },
      "source": [
        "list_feature = []\n",
        "for i in feature_list:\n",
        "  list_feature.extend(i)"
      ],
      "execution_count": null,
      "outputs": []
    },
    {
      "cell_type": "markdown",
      "metadata": {
        "id": "3mQZrbJCwggW",
        "colab_type": "text"
      },
      "source": [
        "# Clustering"
      ]
    },
    {
      "cell_type": "code",
      "metadata": {
        "id": "rFZ1jT1k7EU7",
        "colab_type": "code",
        "colab": {}
      },
      "source": [
        "number_clusters = 1000\n",
        "kmeans = KMeans(n_clusters=number_clusters, random_state=0).fit(list_feature)"
      ],
      "execution_count": null,
      "outputs": []
    },
    {
      "cell_type": "markdown",
      "metadata": {
        "id": "MHIn5jwSwrdN",
        "colab_type": "text"
      },
      "source": [
        "# Calcualte TF-IDF"
      ]
    },
    {
      "cell_type": "code",
      "metadata": {
        "id": "KmNIqHZ73_S4",
        "colab_type": "code",
        "colab": {}
      },
      "source": [
        "hist_images = []\n",
        "h = 0\n",
        "for i in feature_list:\n",
        "  tempt = [0]*number_clusters\n",
        "  for j in range(0,len(i)):\n",
        "    tempt[kmeans.labels_[h+j]] = tempt[kmeans.labels_[h+j]] +1\n",
        "  h = h + len(i)\n",
        "  hist_images.append(tempt)"
      ],
      "execution_count": null,
      "outputs": []
    },
    {
      "cell_type": "code",
      "metadata": {
        "id": "_xIGiJh6rlib",
        "colab_type": "code",
        "colab": {}
      },
      "source": [
        "idf = [0]* number_clusters\n",
        "for i in hist_images:\n",
        "  for j in range(0,len(i)):\n",
        "    if i[j] != 0:\n",
        "      idf[j] = idf[j] + 1"
      ],
      "execution_count": null,
      "outputs": []
    },
    {
      "cell_type": "code",
      "metadata": {
        "id": "CLen0vsmsgXC",
        "colab_type": "code",
        "colab": {}
      },
      "source": [
        "image_number = len(feature_list)\n",
        "for i in hist_images:\n",
        "  for j in range (0,len(i)):\n",
        "    if i[j] != 0:\n",
        "      i[j] = i[j] * (image_number/idf[j]) "
      ],
      "execution_count": null,
      "outputs": []
    },
    {
      "cell_type": "markdown",
      "metadata": {
        "id": "Ec7bl3NUFnsh",
        "colab_type": "text"
      },
      "source": [
        "# Search Image\n"
      ]
    },
    {
      "cell_type": "code",
      "metadata": {
        "id": "MLWf80CxYn9g",
        "colab_type": "code",
        "colab": {}
      },
      "source": [
        "extractor = cv.xfeatures2d.SIFT_create()\n",
        "harris_laplace\t=\tcv.xfeatures2d.HarrisLaplaceFeatureDetector_create(maxCorners=1000)\n",
        "image = cv.imread('drive/My Drive/images/bodleian_000264.jpg')\n",
        "# cv2_imshow(image)\n",
        "gray = cv.cvtColor(image,cv.COLOR_BGR2GRAY)\n",
        "kp = harris_laplace.detect(gray,None)\n",
        "keypoint, desc = extractor.compute(gray,kp)\n",
        "predict_cluster = kmeans.predict(desc,None)\n",
        "hist = [0] *number_clusters\n",
        "for i in predict_cluster:\n",
        "  hist[i] = hist[i] + 1\n",
        "for i in  range(0,len(hist)):\n",
        "  if hist[i] != 0:\n",
        "    hist[i] = hist[i] * (image_number/idf[i]) "
      ],
      "execution_count": null,
      "outputs": []
    },
    {
      "cell_type": "code",
      "metadata": {
        "id": "iupsS6wOeZdP",
        "colab_type": "code",
        "colab": {}
      },
      "source": [
        "vec1 = np.array([hist])\n",
        "vec2 = np.array(hist_images)\n",
        "result = cosine_similarity(vec1, vec2)\n",
        "dict_image = {}\n",
        "for i,j in zip(result[0],os.listdir('drive/My Drive/images')):\n",
        "  dict_image[i] = j"
      ],
      "execution_count": null,
      "outputs": []
    },
    {
      "cell_type": "code",
      "metadata": {
        "id": "e3Ak0qeHsmeG",
        "colab_type": "code",
        "colab": {}
      },
      "source": [
        "result[0] = np.sort(result[0])\n",
        "result[0] = result[0][::-1]\n",
        "for i in range (0,10):\n",
        "  print(dict_image[result[0][i]],result[0][i])\n",
        "  image = cv.imread('drive/My Drive/images/'+dict_image[result[0][i]])\n",
        "  cv2_imshow(image)"
      ],
      "execution_count": null,
      "outputs": []
    }
  ]
}